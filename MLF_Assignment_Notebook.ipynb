{
  "nbformat": 4,
  "nbformat_minor": 0,
  "metadata": {
    "kernelspec": {
      "display_name": "Python 3 (ipykernel)",
      "language": "python",
      "name": "python3"
    },
    "language_info": {
      "codemirror_mode": {
        "name": "ipython",
        "version": 3
      },
      "file_extension": ".py",
      "mimetype": "text/x-python",
      "name": "python",
      "nbconvert_exporter": "python",
      "pygments_lexer": "ipython3",
      "version": "3.9.6"
    },
    "colab": {
      "name": "MLF_Assignment_Notebook.ipynb",
      "provenance": [],
      "collapsed_sections": []
    }
  },
  "cells": [
    {
      "cell_type": "markdown",
      "metadata": {
        "id": "sKfFNw7LJeJl"
      },
      "source": [
        "# Peer Review Assignment 1\n",
        "\n",
        "Name: Oluwatobi Adefami\n",
        "\n",
        "Date: 6/09/2021\n"
      ]
    },
    {
      "cell_type": "markdown",
      "metadata": {
        "id": "tOFZNJAJJeJu"
      },
      "source": [
        "## Instructions\n",
        "* Work through the notebook, answer all questions, and do all problems\n",
        "* You are allowed to consult the internet, and discuss on the module forum\n",
        "* Your answers and solutions to the problems should be added to this notebook \n",
        "* Submit your final work as an html file\n",
        "* Note that the solutions to the problems used python version 3.6.4. \n",
        "* Hint: In this assignment you work with a single linear regression problem where you generate data yourself. This means that you have an idea of what the computed solution should look like. \n",
        "\n",
        "## Marking Scheme (Theoretical Questions)\n",
        "* All questions are marked out of 3.\n",
        "* No valid answer: 0 marks\n",
        "* Demonstration of grasp of basic idea: 1 mark\n",
        "* 'Perfect' answer: 3 marks\n",
        "\n",
        "## Marking Scheme (Practical Problems)\n",
        "* All problems are marked out of 5.\n",
        "* No valid answer: 0 marks\n",
        "* Demonstration of grasp of basic idea: 2 mark\n",
        "* Working code: 5 marks\n",
        "---"
      ]
    },
    {
      "cell_type": "markdown",
      "metadata": {
        "id": "01Yv3YJjJeJy"
      },
      "source": [
        "# Regression\n",
        "\n",
        "Let's start with the simplest possible regression problem: Solve the following system of linear equations,\n",
        "\n",
        "$$\n",
        "x = 1.0\\\\\n",
        "x = 0.5\\\\\n",
        "x = 0.7\\\\\n",
        "$$\n",
        "At first glance this does not make sense, how can $x$ take on different values than these? In practice however, this happens all the time. Think of the situation where you measure a quantity multiple times; every time you measure - a slightly different value - just as in the equations above. This is a simple example of an over-determined system.\n",
        "\n",
        "---\n",
        "Answer the following questions (all calculations should be done by hand, written here in latex):"
      ]
    },
    {
      "cell_type": "markdown",
      "metadata": {
        "id": "MNKpKYoNJeJ0"
      },
      "source": [
        "### Questions 1:\n",
        "\n",
        "1.1) Write the system above as a *linear* system of equation of the form $Ax = b$. <br> **Answer (3 marks):**"
      ]
    },
    {
      "cell_type": "markdown",
      "metadata": {
        "id": "-SH5xTgNJeJ2"
      },
      "source": [
        "Let $a_i$ denote the $i$th column of $A$, an $m$-vector. Then the equation above can be written as: \n",
        "\n",
        "$$b = Ax = \\sum_{i=1}^n x_i a_i. \\tag{1}$$ \n",
        "\n",
        "We can display this equation schematically as:\n",
        "\n",
        "$$\n",
        "\t\\begin{bmatrix} \n",
        "\tb\n",
        "  \\end{bmatrix} = \\begin{bmatrix} a_1 & a_2 & \\cdots & a_n\\end{bmatrix}\\begin{bmatrix}x_1\\\\ x_2 \\\\ \\vdots \\\\ x_n\\end{bmatrix} = x_1 \\begin{bmatrix}a_1\\end{bmatrix}+x_2 \\begin{bmatrix}a_2\\end{bmatrix}+\\cdots + x_n \\begin{bmatrix}a_n\\end{bmatrix} \\;\\;\\;\\;\\;\\;\\; \\forall \\; b \\in [1.0,0.5,0.7], \\; [a_i, ..., a_n] = 1\n",
        " \\tag{2}$$ \n",
        "\n",
        "$$\n",
        "= \\begin{bmatrix} 1 &  1 & \\cdots & 1\\end{bmatrix}\\begin{bmatrix}x_1\\\\ x_2 \\\\ \\vdots \\\\ x_n\\end{bmatrix} = \\begin{bmatrix} 1.0 \\\\ 0.5 \\\\0.7 \\end{bmatrix} \\tag{2}$$"
      ]
    },
    {
      "cell_type": "markdown",
      "metadata": {
        "id": "3S7BMv7hJeJ3"
      },
      "source": [
        "1.2) Write down the normal equations, $A^TA x = A^T b$ for this system.<br>\n",
        "   **Answer (3 marks):** \n",
        "\n",
        "$$\n",
        "{\\begin{bmatrix} a_1 \\\\ a_2 \\\\ \\vdots \\\\ a_n \\end{bmatrix}}^T\n",
        "\\begin{bmatrix} a_1 & a_2 &\\cdots & a_n\\end{bmatrix}\\begin{bmatrix}x_1\\\\ x_2 \\\\ \\vdots \\\\ x_n\\end{bmatrix} = {\\begin{bmatrix} a_1 \\\\ a_2 \\\\ \\vdots \\\\ a_n \\end{bmatrix}}^T \\begin{bmatrix}b\\end{bmatrix} \\;\\;\\;\\;\\;\\;\\; \\forall \\;  b \\in [1.0,0.5,0.7], \\; [a_i, ..., a_n] = 1 \\tag{3}\n",
        "$$ \n",
        "\n",
        "\n",
        "$$\n",
        "= {\\begin{bmatrix} 1 \\\\ 1 \\\\ 1 \\end{bmatrix}}^T\n",
        "\\begin{bmatrix} 1 & 1 & 1\\end{bmatrix}\\begin{bmatrix}x_1\\\\ x_2 \\\\ x_3\\end{bmatrix} = {\\begin{bmatrix} 1 \\\\ 1\\\\ 1 \\end{bmatrix}}^T \\begin{bmatrix} 1.0 \\\\ 0.5 \\\\ 0.7\\end{bmatrix} \\tag{4}\n",
        "$$ "
      ]
    },
    {
      "cell_type": "markdown",
      "metadata": {
        "id": "pp3xSkJYJeJ5"
      },
      "source": [
        "1.3) Solve the system of normal equations for the system above. Is there an intuitive interpretation of the solution \n",
        "\n",
        "**Answer (3 marks):**"
      ]
    },
    {
      "cell_type": "markdown",
      "metadata": {
        "id": "8JFhaFmsJeJ6"
      },
      "source": [
        "**Condition***: To solve for b, we make use of the following properties of Matrices.  \n",
        "1. $(A^T)^T = A$ \n",
        "2. $AA^{-1} = I = A^{-1}A, \\; \\text{where $I$ is the identity matrix which is equal to $1$}$\n",
        "\n",
        "Applying the first condition to both sides of the system of equation yields: \n",
        "\n",
        "$$\n",
        "{\\begin{bmatrix} a_1 & a_2 &\\cdots & a_n \\end{bmatrix}}\n",
        "\\begin{bmatrix} a_1 & a_2 &\\cdots & a_n\\end{bmatrix}\\begin{bmatrix}x_1\\\\ x_2 \\\\ \\vdots \\\\ x_n\\end{bmatrix} = {\\begin{bmatrix} a_1 & a_2 & \\cdots & a_n \\end{bmatrix}} \\begin{bmatrix}b\\end{bmatrix} \\;\\;\\;\\;\\;\\;\\; \\forall \\; b \\in [1.0,0.5,0.7], [a_1,...,a_n] =1 \\tag{5}\n",
        "$$\n",
        "\n",
        "Then applying the second condition to both sides of the equation in an attempt to make b standalone: \n",
        "$$\n",
        "\\begin{bmatrix} a_1 & a_2 &\\cdots & a_n\\end{bmatrix}\\begin{bmatrix}x_1\\\\ x_2 \\\\ \\vdots \\\\ x_n\\end{bmatrix} = \\begin{bmatrix}b\\end{bmatrix} \\;\\;\\;\\;\\;\\;\\; \\forall \\; b \\in [1.0,0.5,0.7], [a_1,...,a_n] =1 \\tag{6}\n",
        "$$ \n",
        "\n",
        "$$\\therefore \\begin{bmatrix} b \\end{bmatrix} = x_1 \\begin{bmatrix}a_1\\end{bmatrix}+x_2 \\begin{bmatrix}a_2\\end{bmatrix}+\\cdots + x_n \\begin{bmatrix}a_n\\end{bmatrix} \\;\\;\\;\\;\\;\\;\\; \\forall\\; b \\in [1.0,0.5,0.7], [a_1,...,a_n] =1\n",
        " \\tag{7}$$\n",
        "\n",
        "Making b equal to the expression given in (1), and it confirms that the solution is an intuitive one."
      ]
    },
    {
      "cell_type": "markdown",
      "metadata": {
        "id": "mBWMKXDOEsEP"
      },
      "source": [
        "1.1.4  What happens if one of the data points is excessively large?  What does that do to your interpretation?  \n",
        "(**2 marks**)"
      ]
    },
    {
      "cell_type": "markdown",
      "metadata": {
        "id": "iO3mtjnmEtDI"
      },
      "source": [
        "An excessively large data point add some noise to the data, and might make it difficult to fit a perfect line through the points."
      ]
    },
    {
      "cell_type": "markdown",
      "metadata": {
        "id": "7uDxWWRGJeJ9"
      },
      "source": [
        "---\n",
        "Let's now revisit the well-known linear regression problem. We'll first formulate it as the solution of an over-determined system, and then as an optimisation problem. For this example we'll use the computer to solve the problem.\n",
        "\n",
        "We are given data in the form of $(x,y)$ pairs and we know that, given $x$, that $y = mx +c$. Since one can fit a straight line through two points, we only need two pairs to fit a line. But there is a rub, the $y$ values are contaminated by noise (at this point you may want to look at the example below), and it is not possible to find a single line that will pass through all points. We therefore need to find the line that best fits the given values. We'll lead you through the solution.\n",
        "\n",
        "Given $(x_n,y_n),\\;\\;n=1,\\ldots,N$, we need to solve for $m$ and $b$ from\n",
        "$$\n",
        "mx_n +b = y_n, \\;\\;n=1,\\ldots,N.\n",
        "$$"
      ]
    },
    {
      "cell_type": "markdown",
      "metadata": {
        "id": "sLbLDFVfJeJ-"
      },
      "source": [
        "---\n",
        "### Questions 2:\n",
        "\n",
        "2.1) Write this as a linear system where the unknowns are $m$ and $b$.<br>\n",
        "   **Answer (3 marks):**"
      ]
    },
    {
      "cell_type": "markdown",
      "metadata": {
        "id": "WcArCwQqJeJ_"
      },
      "source": [
        "$$\\begin{bmatrix} x_n & 1 \\end{bmatrix}\n",
        "\\begin{bmatrix} m \\\\ b \\end{bmatrix} = \\begin{bmatrix}y_n\\end{bmatrix}  \\;\\;\\; \\forall \\;n \\in [1, ..., N] \\tag{8}$$"
      ]
    },
    {
      "cell_type": "markdown",
      "metadata": {
        "id": "PGCQfC4sJeJ_"
      },
      "source": [
        "2.2) Write down, and solve the normal equations for the unknows $m$ and $b$.<br>\n",
        "   **Answer (3 marks):**"
      ]
    },
    {
      "cell_type": "markdown",
      "metadata": {
        "id": "hia3d26_JeKB"
      },
      "source": [
        "The normal equation is given by: \n",
        "\n",
        "$$\\begin{bmatrix} x_n \\\\ 1 \\end{bmatrix}^T\n",
        "\\begin{bmatrix} x_n & 1 \\end{bmatrix}\n",
        "\\begin{bmatrix} m \\\\ b \\end{bmatrix} = \\begin{bmatrix} x_n \\\\ 1 \\end{bmatrix}^T \\begin{bmatrix} y_n \\end{bmatrix} \\;\\;\\; \\forall \\;n \\in [1, ..., N] \\tag {9}\n",
        "$$\n",
        "\n",
        "The solution to the normal equation can be obtained by applying the properties of matrices as provided in section 1.3, i.e., we multiply both sides of the equation by the inverse of the matrix to eliminate the transpose and make $y_n $ stand-alone: \n",
        "\n",
        "Step 1: Applying the first condition to eliminate the transpose.\n",
        "\n",
        "$$\\begin{bmatrix} x_n & 1 \\end{bmatrix}\n",
        "\\begin{bmatrix} x_n & 1 \\end{bmatrix}\n",
        "\\begin{bmatrix} m \\\\ b \\end{bmatrix} = \\begin{bmatrix} x_n & 1 \\end{bmatrix} \\begin{bmatrix} y_n \\end{bmatrix} \\;\\;\\; \\forall \\;n \\in [1, ..., N] \\tag{10}\n",
        "$$ \n",
        "\n",
        "Step 2: Multiply both sides by the inverse matrix to make $y_n$ stand-alone. \n",
        "\n",
        "$$\\begin{bmatrix} x_n & 1 \\end{bmatrix}\n",
        "\\begin{bmatrix} m \\\\ b \\end{bmatrix} = \\begin{bmatrix} y_n \\end{bmatrix} \\;\\;\\; \\forall \\;n \\in [1, ..., N] \\tag{11}\n",
        "$$ \n",
        "\n",
        "Then the unknown variables $m$ and $b$ could be solved using the Gaussian method, or with any mathematical software."
      ]
    },
    {
      "cell_type": "markdown",
      "metadata": {
        "id": "WKa-ITiZJeKC"
      },
      "source": [
        "Next we treat this as an optimisation problem. Instead of using the normal equations, we now look for $m$ and $b$ that minimises the mean squared error,\n",
        "$$\n",
        "E = \\frac1N\\sum_{n=1}^N (mx_n + b - y_n)^2.\n",
        "$$"
      ]
    },
    {
      "cell_type": "markdown",
      "metadata": {
        "id": "1iddGIquJeKC"
      },
      "source": [
        "---\n",
        "\n",
        "### Questions 3:\n",
        "\n",
        "3.1) Write down the equations $\\frac{\\partial E}{\\partial m} = 0$ and $\\frac{\\partial E}{\\partial b} =0$.<br>\n",
        "   **Answer (3 marks):**"
      ]
    },
    {
      "cell_type": "markdown",
      "metadata": {
        "id": "ntSGPRPrJeKE"
      },
      "source": [
        "$$\\frac{\\partial E}{\\partial m} = \\frac {1}{N} \\sum_{n = 1}^N 2x_n(mx_n + b - y_n) = 0 $$ \n",
        "\n",
        "$$= 2\\frac {1}{N} \\sum_{n = 1}^N x_n(mx_n + b - y_n) = 0 $$\n",
        "\n",
        "$$= \\sum_{n = 1}^N x_n(mx_n + b - y_n) = 0 $$\n",
        "$$ = x_n(mx_n + b - y_n)+...+x_N(mx_N + b - y_N) = 0  \\tag{12}$$ \n",
        "\n",
        "And: \n",
        "$$\\frac{\\partial E}{\\partial b} = \\frac {1}{N} \\sum_{n = 1}^N 2(mx_n + b - y_n) = 0 $$ \n",
        "\n",
        "$$= 2\\frac {1}{N} \\sum_{n = 1}^N (mx_n + b - y_n) = 0 $$\n",
        "\n",
        "$$= \\sum_{n = 1}^N x_n(mx_n + b - y_n) = 0 $$\n",
        "$$ = (mx_n + b - y_n)+...+(mx_N + b - y_N) = 0 \\tag{13}$$ \n",
        "\n",
        "\n",
        "\n"
      ]
    },
    {
      "cell_type": "markdown",
      "metadata": {
        "id": "hUpjxqI8JeKE"
      },
      "source": [
        "3.2) Write the equations as a linear system, and solve for $m$ and $b$. How does your answer compare with the answer you obtained above?<br>\n",
        "   **Answer (3 marks):**<br>"
      ]
    },
    {
      "cell_type": "markdown",
      "metadata": {
        "id": "3E8UZD9ZJeKE"
      },
      "source": [
        "Representing equations 12 and 13 as a system of equations:\n",
        "\n",
        "Equation 11 is given as:\n",
        "$$\\begin{align*}x_n(mx_n + b - y_n) = 0 \\\\  \n",
        "\\vdots\\\\\n",
        "x_N(mx_N + b - y_N) = 0\\end{align*}$$ \n",
        "\n",
        "$$\\begin{align*}mx_n + b =y_n \\\\  \n",
        "\\vdots\\\\\n",
        "mx_N + b = y_N\\end{align*} \\tag{14}$$ \n",
        "\n",
        "\n",
        "Equation 12 is given as:\n",
        "$$\\begin{align*}(mx_n + b - y_n) = 0 \\\\  \n",
        "\\vdots\\\\\n",
        "(mx_N + b - y_N) = 0\\end{align*}$$ \n",
        "\n",
        "$$\\begin{align*}mx_n + b =y_n \\\\  \n",
        "\\vdots\\\\\n",
        "mx_N + b = y_N\\end{align*} \\tag{15}$$  \n",
        "\n",
        "\n",
        "Since equations 14 and 15 are similar, We can represent one of them in matrix form and solve the unknowns $(m,b)$ using the normal equations.\n",
        "\n",
        "**Solution**\n",
        "$$\\begin{bmatrix} x_n & \\cdots & x_N \\end{bmatrix}\n",
        "\\begin{bmatrix} m \\\\ b \\end{bmatrix} = \\begin{bmatrix}y_n \\\\ \\vdots \\\\y_N\\end{bmatrix}  \\;\\;\\; \\forall \\;n \\in [1, ..., N] \\tag{16}$$\n",
        "\n",
        "Using the Normal equations:\n",
        "\n",
        "$$\\begin{bmatrix} x_n \\\\ \\vdots \\\\x_N \\end{bmatrix}^T\n",
        "\\begin{bmatrix} x_n & \\cdots & x_N \\end{bmatrix}\n",
        "\\begin{bmatrix} m \\\\ b \\end{bmatrix} = \\begin{bmatrix} x_n \\\\ \\vdots \\\\ x_N \\end{bmatrix}^T \\begin{bmatrix} y_n \\\\ \\vdots \\\\ Y_N\\end{bmatrix} \\;\\;\\; \\forall \\;n \\in [1, ..., N] \\tag {17}\n",
        "$$ \n",
        "\n",
        "We will now use the properties of matrices given again in condition*:\n",
        "\n",
        "Step 1: Applying the first condition to eliminate the transpose.\n",
        "\n",
        "$$\\begin{bmatrix} x_n & \\cdots & x_N \\end{bmatrix}\n",
        "\\begin{bmatrix} x_n & \\cdots & x_N \\end{bmatrix}\n",
        "\\begin{bmatrix} m \\\\ b \\end{bmatrix} = \\begin{bmatrix} x_n & \\cdots & x_N \\end{bmatrix} \\begin{bmatrix} y_n \\\\ \\vdots \\\\ y_N \\end{bmatrix} \\;\\;\\; \\forall \\;n \\in [1, ..., N] \\tag{18}\n",
        "$$ \n",
        "\n",
        "Step 2: Multiply both sides by the inverse matrix to make $y_n$ stand-alone. \n",
        "\n",
        "$$\\begin{bmatrix} x_n & \\cdots & x_N \\end{bmatrix}\n",
        "\\begin{bmatrix} m \\\\ b \\end{bmatrix} = \\begin{bmatrix} y_n \\\\ \\vdots \\\\ y_N\\end{bmatrix} \\;\\;\\; \\forall \\;n \\in [1, ..., N] \\tag{19}\n",
        "$$ \n",
        "\n",
        "Thus equation 19 is equivalent to equation 11."
      ]
    },
    {
      "cell_type": "markdown",
      "metadata": {
        "id": "rcBAmlFIJeKF"
      },
      "source": [
        "It should be clear that these are the same as the normal equations."
      ]
    },
    {
      "cell_type": "markdown",
      "metadata": {
        "id": "UItF8CbxhTGd"
      },
      "source": [
        "\n",
        "1.3.3)  Let’s call the residual sum of squares from a least squares regression RSS.  Write the equation for the residual sum of squares (call it RSS) on the right hand side. (**1 point**)\n",
        "\n",
        "$$\\sum_{i=1}^n (y_i - \\hat{y_i})^2 =  RSS$$\n",
        "\n",
        "RSS = residual sum of squares \n",
        "\n",
        "$y_i$ = $i^{th}$ value of the variable to be predicted\n",
        "\n",
        "$\\hat{y_i}$ = predicted value of $y_i$\n",
        "\n",
        "$n$ = upper limit of summation\n",
        "\n",
        "&nbsp;\n",
        "\n",
        "1.3.4)  How does a ridge regression compare to a least squares regression?  Write down the minimization equation for ridge regression as RSS plus a term.  Use lambda as the penalty term. (**1 point**) \n",
        "\n",
        "Ridge regression is a shrinkage method that avoids the erros of the least squares method. It adds just enough bias to make the estimates reasonably reliable approximations to true population values.\n",
        "\n",
        "$$RSS + \\lambda \\sum_{j=1}^p B_j^2$$\n",
        "\n",
        "$\\lambda$ = penalty term\n",
        "\n",
        "$B_j^2$ = Regression parameters\n",
        "\n",
        "&nbsp;\n",
        "\n",
        "1.3.5) How does a lasso regression compare to a least squares regression?  Write down the minimization equation for LASSO regression as RSS plus a term.  Use lambda as the penalty term (**1 point**)\n",
        "\n",
        "\n",
        "The Lasso is a relatively recent alternative to ridge regression that overcomes the disadvantage of the ridge regression ( the fact that it includes all $p$ preds in the final model). The lasso coefficients, $\\hat{β}_\\lambda^L$ minimize the quantity \n",
        "\n",
        "$$\\sum_{i=1}^n(y_i - \\beta_0 - \\sum_{j=1}^p\\beta_j x_{ij})^2 = \\lambda \\sum_{j=1}^p |\\beta_j| = RSS +\\lambda \\sum_{j=1}^p |\\beta_j|$$\n",
        "&nbsp;\n",
        "\n",
        "1.3.6) In general, how will we determine the value of lambda? (**1 point**) \n",
        "This can be determined by a resampling technique known as *Cross Validation*"
      ]
    },
    {
      "cell_type": "markdown",
      "metadata": {
        "id": "DUdqm0RLJeKF"
      },
      "source": [
        "---"
      ]
    },
    {
      "cell_type": "markdown",
      "metadata": {
        "id": "aMTz3PcWJeKG"
      },
      "source": [
        "We now apply these ideas to a numerical problem. First we need to import a few models"
      ]
    },
    {
      "cell_type": "code",
      "metadata": {
        "id": "a2tUInpXJeKH"
      },
      "source": [
        "# This ensures that any graphs we generate will be part of the notebook, instead of\n",
        "# opening in a separate window\n",
        "% matplotlib inline"
      ],
      "execution_count": 1,
      "outputs": []
    },
    {
      "cell_type": "code",
      "metadata": {
        "id": "ssr2--mJJeKJ"
      },
      "source": [
        "import numpy as np # import the numerical linear algebra module\n",
        "from matplotlib import pyplot as plt\n",
        "plt.style.use(\"seaborn\")"
      ],
      "execution_count": 2,
      "outputs": []
    },
    {
      "cell_type": "markdown",
      "metadata": {
        "id": "ntB9ExOZJeKK"
      },
      "source": [
        "## Generate and display data.\n",
        "In the code block below we generate data with a linear relationship and then plot."
      ]
    },
    {
      "cell_type": "code",
      "metadata": {
        "id": "S31DgwNpJeKL",
        "colab": {
          "base_uri": "https://localhost:8080/",
          "height": 347
        },
        "outputId": "a0376003-7c49-43f3-df45-c5e861bdc2fb"
      },
      "source": [
        "x_train = np.linspace(0,1,100)\n",
        "y_train = 0.2*x_train + 1 + 0.01*np.random.randn(x_train.shape[0])\n",
        " \n",
        "plt.plot(x_train, y_train, 'r.')\n",
        "plt.show()"
      ],
      "execution_count": 3,
      "outputs": [
        {
          "output_type": "display_data",
          "data": {
            "image/png": "[encoded data removed]",
            "text/plain": [
              "<Figure size 576x396 with 1 Axes>"
            ]
          },
          "metadata": {}
        }
      ]
    },
    {
      "cell_type": "markdown",
      "metadata": {
        "id": "vSiUsbPQJeKP"
      },
      "source": [
        "### Problem 1: Find $m$ and $b$ using numpy\n",
        "\n",
        "1. Using numpy, create $A$ and $b$ for the system $Ax=b$ (here $x$ is the vector containing the unknown weight $w$ and offset $b$). <br> ** Answer (5 marks) **\n",
        "\n",
        "2. Solve the normal equations for $m$ and $b$. <br> **Answer (5 marks)**\n"
      ]
    },
    {
      "cell_type": "code",
      "metadata": {
        "id": "8fePSuawJeKQ",
        "colab": {
          "base_uri": "https://localhost:8080/"
        },
        "outputId": "e05cdd7e-da30-4de7-8ace-2f2e2c9d8402"
      },
      "source": [
        "b = np.asarray(y_train)\n",
        "col2 = np.ones(x_train.shape)\n",
        "A = np.vstack((x_train, col2)).T\n",
        " \n",
        "# Your code here\n",
        "# Normal equations\n",
        "A_normal = A.T.dot(A)\n",
        "b_normal = A.T.dot(b)\n",
        " \n",
        "# Solve\n",
        "m, b = np.linalg.solve(A_normal, b_normal)\n",
        " \n",
        "# End of your code\n",
        " \n",
        "# The computed values of m and b should be compared with the values\n",
        "# m = 0.2 and b = 1.0, used to generate the data\n",
        "print(\"m = %.2f, b = %.2f\"%(m,b))"
      ],
      "execution_count": 4,
      "outputs": [
        {
          "output_type": "stream",
          "name": "stdout",
          "text": [
            "m = 0.20, b = 1.00\n"
          ]
        }
      ]
    },
    {
      "cell_type": "markdown",
      "metadata": {
        "id": "B9i6UWjOJeKQ"
      },
      "source": [
        "---"
      ]
    },
    {
      "cell_type": "markdown",
      "metadata": {
        "id": "qrIJXwLOJeKS"
      },
      "source": [
        "### Question 4:\n",
        "1. Why do the numerical values differ from the values used to generate the data?\n",
        "<br> **Answer (3 marks):**"
      ]
    },
    {
      "cell_type": "markdown",
      "metadata": {
        "id": "ULP-T_5JJeKS"
      },
      "source": [
        "The reason is because of the covariance matrix $A^TA$, which makes it almost impossible to compute a numerically stable solution."
      ]
    },
    {
      "cell_type": "markdown",
      "metadata": {
        "id": "wiYIL8RCJeKT"
      },
      "source": [
        "---\n",
        "## Using normal equations is numerically unstable\n",
        "\n",
        "Although it does not matter much for the simple example above, in general it is bad practice to use the normal equations to solve the least squares problem. Surprisingly enough, the culprit is the *covariance* matrix $A^TA$. We cannot compute it in a numerically stable fashion. Technically, its condition number is roughly the square of the condition number of $A$ and in practice this means that we loose roughly half the precision if we calculate the covariance matrix.\n",
        "\n",
        "A full discussion is beyond the scope of the course, but the interested reader is encouraged to consult, Lloyd N. Trefethen and David Bau, III. NUMERICAL LINEAR ALGEBRA, SIAM 1997.\n",
        "\n",
        "A numerical stable way of solving the linear least squares problem is to first do a $QR$ factorization of $A$. If $A$ is an $m\\times n$ dimensional array with $m>n$ (more equations than unknowns), then the $QR$ factorization is given by\n",
        "$$\n",
        "A = QR,\n",
        "$$\n",
        "where $Q$ is an $m\\times n$ matrix with orthogonal columns, i.e. $Q^TQ=I$, and $R$ is an $n\\times n$ upper triangular matrix. Assuming that $A$ has full rank, i.e. its columns are linearly independent, then it can be shown that $R$ is non-singular. One has to take some care, but there are a number of numerically stable algorithms to compute the $QR$ factorisation. \n",
        "\n",
        "Let's now substitute the $A=QR$ in the normal equations,\n",
        "$$\n",
        "(QR)^T QR x = (QR)^T b.\n",
        "$$\n",
        "Taking the orthogonality of $Q$ and the non-singularity of $R$ into account, this equation boils down to\n",
        "$$\n",
        "Rx = Q^Tb.\n",
        "$$\n",
        "Since $R$ is non-singular and upper traingular, this system is easily and efficiently solved.\n",
        "\n",
        "What has happened here? After we calculated the $QR$ algorithm in a stable manner, we did many of the calculations analytically (using $Q^TQ=I$ and cancelling $R^T$ from both sides), and that is done with infinite precision!"
      ]
    },
    {
      "cell_type": "markdown",
      "metadata": {
        "id": "MnJ5JBT7JeKU"
      },
      "source": [
        "---\n",
        "### Problem 2:\n",
        "1. Solve the linear least squares problem using the $QR$ factorization. With numpy. <br> ** Ansewr (5 marks):**"
      ]
    },
    {
      "cell_type": "code",
      "metadata": {
        "id": "iVt-18KDJeKV",
        "colab": {
          "base_uri": "https://localhost:8080/"
        },
        "outputId": "195b0bc8-fc05-4c36-ca15-f00e002e950f"
      },
      "source": [
        "# Your code here\n",
        "Q, R = np.linalg.qr(A)\n",
        "# End of your code\n",
        " \n",
        " \n",
        "print(Q.shape, '\\n')\n",
        "print('R = ', R, '\\n')\n",
        "print('Q^TQ = ', np.dot(Q.T,Q))\n",
        "print(\"m = %.2f, b = %.2f\"%(m,b))"
      ],
      "execution_count": 5,
      "outputs": [
        {
          "output_type": "stream",
          "name": "stdout",
          "text": [
            "(100, 2) \n",
            "\n",
            "R =  [[-5.78806388 -8.6384672 ]\n",
            " [ 0.         -5.03754746]] \n",
            "\n",
            "Q^TQ =  [[1.00000000e+00 1.80859532e-17]\n",
            " [1.80859532e-17 1.00000000e+00]]\n",
            "m = 0.20, b = 1.00\n"
          ]
        }
      ]
    },
    {
      "cell_type": "code",
      "metadata": {
        "colab": {
          "base_uri": "https://localhost:8080/"
        },
        "id": "og6mmG6bQpPw",
        "outputId": "4d5e2bf3-77e4-4021-b1a2-fd0642e255dc"
      },
      "source": [
        "np.allclose(A, np.dot(Q, R))"
      ],
      "execution_count": 6,
      "outputs": [
        {
          "output_type": "execute_result",
          "data": {
            "text/plain": [
              "True"
            ]
          },
          "metadata": {},
          "execution_count": 6
        }
      ]
    },
    {
      "cell_type": "markdown",
      "metadata": {
        "id": "JaHdo_aoJeKW"
      },
      "source": [
        "# Solve using scikit-learn\n",
        "\n",
        "First we need to import the necessary module from scikit-learn"
      ]
    },
    {
      "cell_type": "code",
      "metadata": {
        "id": "LselqNj7JeKX"
      },
      "source": [
        "# Import modules from sklearn\n",
        "from sklearn.linear_model import  LinearRegression"
      ],
      "execution_count": 7,
      "outputs": []
    },
    {
      "cell_type": "markdown",
      "metadata": {
        "id": "Sw7oYHcqJeKX"
      },
      "source": [
        "## Problem 3:\n",
        "\n",
        "1. Solve the linear least squares problem using sklearn. <br> ** Answer (5 marks):**"
      ]
    },
    {
      "cell_type": "code",
      "metadata": {
        "id": "Oh686U5oJeKY",
        "colab": {
          "base_uri": "https://localhost:8080/"
        },
        "outputId": "01fd39da-e4c7-4a20-bb8f-d57a58cd84bd"
      },
      "source": [
        "# Fit the data to the model\n",
        "LR = LinearRegression()\n",
        " \n",
        "# reshape data\n",
        "data_xtrain = x_train.reshape(-1,1)\n",
        "data_ytrain = y_train.reshape(-1,1)\n",
        " \n",
        "# fit data to model\n",
        "reg = LR.fit(data_xtrain, data_ytrain)\n",
        " \n",
        "# Print the weight and offset. The values are the same as from the normal equations.\n",
        "print(\"The slope of the equation is %.2f, while the intercept of the equation is %.2f\" %(reg.coef_, reg.intercept_))"
      ],
      "execution_count": 8,
      "outputs": [
        {
          "output_type": "stream",
          "name": "stdout",
          "text": [
            "The slope of the equation is 0.20, while the intercept of the equation is 1.00\n"
          ]
        }
      ]
    },
    {
      "cell_type": "markdown",
      "metadata": {
        "id": "AsIYryINJeKZ"
      },
      "source": [
        "# Using Keras\n",
        "\n",
        "First import the necessary modules from keras"
      ]
    },
    {
      "cell_type": "code",
      "metadata": {
        "id": "F_HvwnVkJeKa"
      },
      "source": [
        "import tensorflow as tf\n",
        "from keras.models import Sequential\n",
        "from keras.layers import Dense\n",
        "from tensorflow.keras.optimizers import Adam"
      ],
      "execution_count": 18,
      "outputs": []
    },
    {
      "cell_type": "markdown",
      "metadata": {
        "id": "MhsXjX15JeKa"
      },
      "source": [
        "## Problem 4:\n",
        "\n",
        "1. Solve the linear least squares problem using keras. <br> ** Answer (5 marks):**\n",
        "2. Use the Adam optimiser and experiment with different learning rates. <br> ** Answer (5 marks):**\n",
        "\n",
        "**Note:** You should find everything you need on the internet\n",
        "* https://keras.io/getting-started/sequential-model-guide/\n",
        "* https://keras.io/optimizers/\n",
        "* https://keras.io/models/sequential/"
      ]
    },
    {
      "cell_type": "code",
      "metadata": {
        "id": "_IHzVV4GJeKc",
        "colab": {
          "base_uri": "https://localhost:8080/"
        },
        "outputId": "023a6681-bbc6-4722-a071-3f5406c13163"
      },
      "source": [
        "model = Sequential()\n",
        "model.add(Dense(1, input_dim=1, kernel_initializer='normal', activation=\"linear\"))\n",
        "\n",
        "# Compile model\n",
        "model.compile(loss=\"mse\", optimizer=Adam(lr = 0.01), metrics=['mse'])\n",
        "\n",
        "# Fit model: use a batch_size=20, epochs=300\n",
        "model.fit(x=x_train, y=y_train, batch_size=20, epochs=300, verbose=1)"
      ],
      "execution_count": 19,
      "outputs": [
        {
          "output_type": "stream",
          "name": "stderr",
          "text": [
            "/usr/local/lib/python3.7/dist-packages/keras/optimizer_v2/optimizer_v2.py:356: UserWarning: The `lr` argument is deprecated, use `learning_rate` instead.\n",
            "  \"The `lr` argument is deprecated, use `learning_rate` instead.\")\n"
          ]
        },
        {
          "output_type": "stream",
          "name": "stdout",
          "text": [
            "Epoch 1/300\n",
            "5/5 [==============================] - 0s 2ms/step - loss: 1.1713 - mse: 1.1713\n",
            "Epoch 2/300\n",
            "5/5 [==============================] - 0s 3ms/step - loss: 1.0134 - mse: 1.0134\n",
            "Epoch 3/300\n",
            "5/5 [==============================] - 0s 3ms/step - loss: 0.8705 - mse: 0.8705\n",
            "Epoch 4/300\n",
            "5/5 [==============================] - 0s 3ms/step - loss: 0.7397 - mse: 0.7397\n",
            "Epoch 5/300\n",
            "5/5 [==============================] - 0s 4ms/step - loss: 0.6228 - mse: 0.6228\n",
            "Epoch 6/300\n",
            "5/5 [==============================] - 0s 2ms/step - loss: 0.5195 - mse: 0.5195\n",
            "Epoch 7/300\n",
            "5/5 [==============================] - 0s 2ms/step - loss: 0.4298 - mse: 0.4298\n",
            "Epoch 8/300\n",
            "5/5 [==============================] - 0s 3ms/step - loss: 0.3515 - mse: 0.3515\n",
            "Epoch 9/300\n",
            "5/5 [==============================] - 0s 2ms/step - loss: 0.2859 - mse: 0.2859\n",
            "Epoch 10/300\n",
            "5/5 [==============================] - 0s 2ms/step - loss: 0.2303 - mse: 0.2303\n",
            "Epoch 11/300\n",
            "5/5 [==============================] - 0s 3ms/step - loss: 0.1846 - mse: 0.1846\n",
            "Epoch 12/300\n",
            "5/5 [==============================] - 0s 3ms/step - loss: 0.1473 - mse: 0.1473\n",
            "Epoch 13/300\n",
            "5/5 [==============================] - 0s 2ms/step - loss: 0.1170 - mse: 0.1170\n",
            "Epoch 14/300\n",
            "5/5 [==============================] - 0s 3ms/step - loss: 0.0928 - mse: 0.0928\n",
            "Epoch 15/300\n",
            "5/5 [==============================] - 0s 2ms/step - loss: 0.0742 - mse: 0.0742\n",
            "Epoch 16/300\n",
            "5/5 [==============================] - 0s 3ms/step - loss: 0.0597 - mse: 0.0597\n",
            "Epoch 17/300\n",
            "5/5 [==============================] - 0s 3ms/step - loss: 0.0483 - mse: 0.0483\n",
            "Epoch 18/300\n",
            "5/5 [==============================] - 0s 3ms/step - loss: 0.0401 - mse: 0.0401\n",
            "Epoch 19/300\n",
            "5/5 [==============================] - 0s 2ms/step - loss: 0.0337 - mse: 0.0337\n",
            "Epoch 20/300\n",
            "5/5 [==============================] - 0s 2ms/step - loss: 0.0290 - mse: 0.0290\n",
            "Epoch 21/300\n",
            "5/5 [==============================] - 0s 2ms/step - loss: 0.0257 - mse: 0.0257\n",
            "Epoch 22/300\n",
            "5/5 [==============================] - 0s 2ms/step - loss: 0.0233 - mse: 0.0233\n",
            "Epoch 23/300\n",
            "5/5 [==============================] - 0s 2ms/step - loss: 0.0215 - mse: 0.0215\n",
            "Epoch 24/300\n",
            "5/5 [==============================] - 0s 2ms/step - loss: 0.0202 - mse: 0.0202\n",
            "Epoch 25/300\n",
            "5/5 [==============================] - 0s 2ms/step - loss: 0.0191 - mse: 0.0191\n",
            "Epoch 26/300\n",
            "5/5 [==============================] - 0s 2ms/step - loss: 0.0184 - mse: 0.0184\n",
            "Epoch 27/300\n",
            "5/5 [==============================] - 0s 3ms/step - loss: 0.0178 - mse: 0.0178\n",
            "Epoch 28/300\n",
            "5/5 [==============================] - 0s 3ms/step - loss: 0.0173 - mse: 0.0173\n",
            "Epoch 29/300\n",
            "5/5 [==============================] - 0s 3ms/step - loss: 0.0168 - mse: 0.0168\n",
            "Epoch 30/300\n",
            "5/5 [==============================] - 0s 2ms/step - loss: 0.0164 - mse: 0.0164\n",
            "Epoch 31/300\n",
            "5/5 [==============================] - 0s 3ms/step - loss: 0.0160 - mse: 0.0160\n",
            "Epoch 32/300\n",
            "5/5 [==============================] - 0s 3ms/step - loss: 0.0156 - mse: 0.0156\n",
            "Epoch 33/300\n",
            "5/5 [==============================] - 0s 3ms/step - loss: 0.0152 - mse: 0.0152\n",
            "Epoch 34/300\n",
            "5/5 [==============================] - 0s 3ms/step - loss: 0.0148 - mse: 0.0148\n",
            "Epoch 35/300\n",
            "5/5 [==============================] - 0s 4ms/step - loss: 0.0145 - mse: 0.0145\n",
            "Epoch 36/300\n",
            "5/5 [==============================] - 0s 3ms/step - loss: 0.0141 - mse: 0.0141\n",
            "Epoch 37/300\n",
            "5/5 [==============================] - 0s 3ms/step - loss: 0.0137 - mse: 0.0137\n",
            "Epoch 38/300\n",
            "5/5 [==============================] - 0s 2ms/step - loss: 0.0134 - mse: 0.0134\n",
            "Epoch 39/300\n",
            "5/5 [==============================] - 0s 2ms/step - loss: 0.0130 - mse: 0.0130\n",
            "Epoch 40/300\n",
            "5/5 [==============================] - 0s 2ms/step - loss: 0.0127 - mse: 0.0127\n",
            "Epoch 41/300\n",
            "5/5 [==============================] - 0s 3ms/step - loss: 0.0123 - mse: 0.0123\n",
            "Epoch 42/300\n",
            "5/5 [==============================] - 0s 2ms/step - loss: 0.0120 - mse: 0.0120\n",
            "Epoch 43/300\n",
            "5/5 [==============================] - 0s 3ms/step - loss: 0.0116 - mse: 0.0116\n",
            "Epoch 44/300\n",
            "5/5 [==============================] - 0s 2ms/step - loss: 0.0113 - mse: 0.0113\n",
            "Epoch 45/300\n",
            "5/5 [==============================] - 0s 3ms/step - loss: 0.0110 - mse: 0.0110\n",
            "Epoch 46/300\n",
            "5/5 [==============================] - 0s 2ms/step - loss: 0.0107 - mse: 0.0107\n",
            "Epoch 47/300\n",
            "5/5 [==============================] - 0s 2ms/step - loss: 0.0104 - mse: 0.0104\n",
            "Epoch 48/300\n",
            "5/5 [==============================] - 0s 2ms/step - loss: 0.0100 - mse: 0.0100\n",
            "Epoch 49/300\n",
            "5/5 [==============================] - 0s 2ms/step - loss: 0.0097 - mse: 0.0097\n",
            "Epoch 50/300\n",
            "5/5 [==============================] - 0s 2ms/step - loss: 0.0094 - mse: 0.0094\n",
            "Epoch 51/300\n",
            "5/5 [==============================] - 0s 2ms/step - loss: 0.0092 - mse: 0.0092\n",
            "Epoch 52/300\n",
            "5/5 [==============================] - 0s 3ms/step - loss: 0.0089 - mse: 0.0089\n",
            "Epoch 53/300\n",
            "5/5 [==============================] - 0s 3ms/step - loss: 0.0086 - mse: 0.0086\n",
            "Epoch 54/300\n",
            "5/5 [==============================] - 0s 3ms/step - loss: 0.0083 - mse: 0.0083\n",
            "Epoch 55/300\n",
            "5/5 [==============================] - 0s 2ms/step - loss: 0.0080 - mse: 0.0080\n",
            "Epoch 56/300\n",
            "5/5 [==============================] - 0s 3ms/step - loss: 0.0078 - mse: 0.0078\n",
            "Epoch 57/300\n",
            "5/5 [==============================] - 0s 3ms/step - loss: 0.0075 - mse: 0.0075\n",
            "Epoch 58/300\n",
            "5/5 [==============================] - 0s 3ms/step - loss: 0.0073 - mse: 0.0073\n",
            "Epoch 59/300\n",
            "5/5 [==============================] - 0s 3ms/step - loss: 0.0070 - mse: 0.0070\n",
            "Epoch 60/300\n",
            "5/5 [==============================] - 0s 3ms/step - loss: 0.0068 - mse: 0.0068\n",
            "Epoch 61/300\n",
            "5/5 [==============================] - 0s 4ms/step - loss: 0.0066 - mse: 0.0066\n",
            "Epoch 62/300\n",
            "5/5 [==============================] - 0s 2ms/step - loss: 0.0063 - mse: 0.0063\n",
            "Epoch 63/300\n",
            "5/5 [==============================] - 0s 2ms/step - loss: 0.0061 - mse: 0.0061\n",
            "Epoch 64/300\n",
            "5/5 [==============================] - 0s 2ms/step - loss: 0.0059 - mse: 0.0059\n",
            "Epoch 65/300\n",
            "5/5 [==============================] - 0s 2ms/step - loss: 0.0057 - mse: 0.0057\n",
            "Epoch 66/300\n",
            "5/5 [==============================] - 0s 2ms/step - loss: 0.0055 - mse: 0.0055\n",
            "Epoch 67/300\n",
            "5/5 [==============================] - 0s 3ms/step - loss: 0.0053 - mse: 0.0053\n",
            "Epoch 68/300\n",
            "5/5 [==============================] - 0s 3ms/step - loss: 0.0051 - mse: 0.0051\n",
            "Epoch 69/300\n",
            "5/5 [==============================] - 0s 3ms/step - loss: 0.0049 - mse: 0.0049\n",
            "Epoch 70/300\n",
            "5/5 [==============================] - 0s 3ms/step - loss: 0.0047 - mse: 0.0047\n",
            "Epoch 71/300\n",
            "5/5 [==============================] - 0s 3ms/step - loss: 0.0046 - mse: 0.0046\n",
            "Epoch 72/300\n",
            "5/5 [==============================] - 0s 3ms/step - loss: 0.0044 - mse: 0.0044\n",
            "Epoch 73/300\n",
            "5/5 [==============================] - 0s 2ms/step - loss: 0.0042 - mse: 0.0042\n",
            "Epoch 74/300\n",
            "5/5 [==============================] - 0s 2ms/step - loss: 0.0041 - mse: 0.0041\n",
            "Epoch 75/300\n",
            "5/5 [==============================] - 0s 3ms/step - loss: 0.0039 - mse: 0.0039\n",
            "Epoch 76/300\n",
            "5/5 [==============================] - 0s 3ms/step - loss: 0.0038 - mse: 0.0038\n",
            "Epoch 77/300\n",
            "5/5 [==============================] - 0s 2ms/step - loss: 0.0036 - mse: 0.0036\n",
            "Epoch 78/300\n",
            "5/5 [==============================] - 0s 3ms/step - loss: 0.0035 - mse: 0.0035\n",
            "Epoch 79/300\n",
            "5/5 [==============================] - 0s 3ms/step - loss: 0.0033 - mse: 0.0033\n",
            "Epoch 80/300\n",
            "5/5 [==============================] - 0s 3ms/step - loss: 0.0032 - mse: 0.0032\n",
            "Epoch 81/300\n",
            "5/5 [==============================] - 0s 2ms/step - loss: 0.0031 - mse: 0.0031\n",
            "Epoch 82/300\n",
            "5/5 [==============================] - 0s 3ms/step - loss: 0.0030 - mse: 0.0030\n",
            "Epoch 83/300\n",
            "5/5 [==============================] - 0s 3ms/step - loss: 0.0028 - mse: 0.0028\n",
            "Epoch 84/300\n",
            "5/5 [==============================] - 0s 3ms/step - loss: 0.0027 - mse: 0.0027\n",
            "Epoch 85/300\n",
            "5/5 [==============================] - 0s 3ms/step - loss: 0.0026 - mse: 0.0026\n",
            "Epoch 86/300\n",
            "5/5 [==============================] - 0s 3ms/step - loss: 0.0025 - mse: 0.0025\n",
            "Epoch 87/300\n",
            "5/5 [==============================] - 0s 4ms/step - loss: 0.0024 - mse: 0.0024\n",
            "Epoch 88/300\n",
            "5/5 [==============================] - 0s 2ms/step - loss: 0.0023 - mse: 0.0023\n",
            "Epoch 89/300\n",
            "5/5 [==============================] - 0s 4ms/step - loss: 0.0022 - mse: 0.0022\n",
            "Epoch 90/300\n",
            "5/5 [==============================] - 0s 3ms/step - loss: 0.0021 - mse: 0.0021\n",
            "Epoch 91/300\n",
            "5/5 [==============================] - 0s 2ms/step - loss: 0.0020 - mse: 0.0020\n",
            "Epoch 92/300\n",
            "5/5 [==============================] - 0s 2ms/step - loss: 0.0019 - mse: 0.0019\n",
            "Epoch 93/300\n",
            "5/5 [==============================] - 0s 3ms/step - loss: 0.0019 - mse: 0.0019\n",
            "Epoch 94/300\n",
            "5/5 [==============================] - 0s 2ms/step - loss: 0.0018 - mse: 0.0018\n",
            "Epoch 95/300\n",
            "5/5 [==============================] - 0s 3ms/step - loss: 0.0017 - mse: 0.0017\n",
            "Epoch 96/300\n",
            "5/5 [==============================] - 0s 2ms/step - loss: 0.0016 - mse: 0.0016\n",
            "Epoch 97/300\n",
            "5/5 [==============================] - 0s 3ms/step - loss: 0.0016 - mse: 0.0016\n",
            "Epoch 98/300\n",
            "5/5 [==============================] - 0s 3ms/step - loss: 0.0015 - mse: 0.0015\n",
            "Epoch 99/300\n",
            "5/5 [==============================] - 0s 3ms/step - loss: 0.0014 - mse: 0.0014\n",
            "Epoch 100/300\n",
            "5/5 [==============================] - 0s 3ms/step - loss: 0.0014 - mse: 0.0014\n",
            "Epoch 101/300\n",
            "5/5 [==============================] - 0s 3ms/step - loss: 0.0013 - mse: 0.0013\n",
            "Epoch 102/300\n",
            "5/5 [==============================] - 0s 3ms/step - loss: 0.0012 - mse: 0.0012    \n",
            "Epoch 103/300\n",
            "5/5 [==============================] - 0s 3ms/step - loss: 0.0012 - mse: 0.0012\n",
            "Epoch 104/300\n",
            "5/5 [==============================] - 0s 3ms/step - loss: 0.0011 - mse: 0.0011\n",
            "Epoch 105/300\n",
            "5/5 [==============================] - 0s 3ms/step - loss: 0.0011 - mse: 0.0011    \n",
            "Epoch 106/300\n",
            "5/5 [==============================] - 0s 3ms/step - loss: 0.0010 - mse: 0.0010\n",
            "Epoch 107/300\n",
            "5/5 [==============================] - 0s 3ms/step - loss: 9.9072e-04 - mse: 9.9072e-04\n",
            "Epoch 108/300\n",
            "5/5 [==============================] - 0s 4ms/step - loss: 9.4957e-04 - mse: 9.4957e-04\n",
            "Epoch 109/300\n",
            "5/5 [==============================] - 0s 3ms/step - loss: 9.0642e-04 - mse: 9.0642e-04\n",
            "Epoch 110/300\n",
            "5/5 [==============================] - 0s 4ms/step - loss: 8.6684e-04 - mse: 8.6684e-04\n",
            "Epoch 111/300\n",
            "5/5 [==============================] - 0s 3ms/step - loss: 8.2977e-04 - mse: 8.2977e-04\n",
            "Epoch 112/300\n",
            "5/5 [==============================] - 0s 3ms/step - loss: 7.9212e-04 - mse: 7.9212e-04\n",
            "Epoch 113/300\n",
            "5/5 [==============================] - 0s 4ms/step - loss: 7.5655e-04 - mse: 7.5655e-04\n",
            "Epoch 114/300\n",
            "5/5 [==============================] - 0s 3ms/step - loss: 7.2322e-04 - mse: 7.2322e-04\n",
            "Epoch 115/300\n",
            "5/5 [==============================] - 0s 3ms/step - loss: 6.9188e-04 - mse: 6.9188e-04\n",
            "Epoch 116/300\n",
            "5/5 [==============================] - 0s 3ms/step - loss: 6.6099e-04 - mse: 6.6099e-04\n",
            "Epoch 117/300\n",
            "5/5 [==============================] - 0s 3ms/step - loss: 6.3190e-04 - mse: 6.3190e-04\n",
            "Epoch 118/300\n",
            "5/5 [==============================] - 0s 3ms/step - loss: 6.0469e-04 - mse: 6.0469e-04\n",
            "Epoch 119/300\n",
            "5/5 [==============================] - 0s 3ms/step - loss: 5.7803e-04 - mse: 5.7803e-04\n",
            "Epoch 120/300\n",
            "5/5 [==============================] - 0s 4ms/step - loss: 5.5306e-04 - mse: 5.5306e-04\n",
            "Epoch 121/300\n",
            "5/5 [==============================] - 0s 4ms/step - loss: 5.2982e-04 - mse: 5.2982e-04\n",
            "Epoch 122/300\n",
            "5/5 [==============================] - 0s 4ms/step - loss: 5.0448e-04 - mse: 5.0448e-04\n",
            "Epoch 123/300\n",
            "5/5 [==============================] - 0s 2ms/step - loss: 4.8467e-04 - mse: 4.8467e-04\n",
            "Epoch 124/300\n",
            "5/5 [==============================] - 0s 3ms/step - loss: 4.6307e-04 - mse: 4.6307e-04\n",
            "Epoch 125/300\n",
            "5/5 [==============================] - 0s 4ms/step - loss: 4.4405e-04 - mse: 4.4405e-04\n",
            "Epoch 126/300\n",
            "5/5 [==============================] - 0s 2ms/step - loss: 4.2622e-04 - mse: 4.2622e-04\n",
            "Epoch 127/300\n",
            "5/5 [==============================] - 0s 2ms/step - loss: 4.0746e-04 - mse: 4.0746e-04\n",
            "Epoch 128/300\n",
            "5/5 [==============================] - 0s 4ms/step - loss: 3.9112e-04 - mse: 3.9112e-04\n",
            "Epoch 129/300\n",
            "5/5 [==============================] - 0s 2ms/step - loss: 3.7590e-04 - mse: 3.7590e-04\n",
            "Epoch 130/300\n",
            "5/5 [==============================] - 0s 4ms/step - loss: 3.6004e-04 - mse: 3.6004e-04\n",
            "Epoch 131/300\n",
            "5/5 [==============================] - 0s 3ms/step - loss: 3.4581e-04 - mse: 3.4581e-04\n",
            "Epoch 132/300\n",
            "5/5 [==============================] - 0s 3ms/step - loss: 3.3231e-04 - mse: 3.3231e-04\n",
            "Epoch 133/300\n",
            "5/5 [==============================] - 0s 3ms/step - loss: 3.1915e-04 - mse: 3.1915e-04\n",
            "Epoch 134/300\n",
            "5/5 [==============================] - 0s 3ms/step - loss: 3.0681e-04 - mse: 3.0681e-04\n",
            "Epoch 135/300\n",
            "5/5 [==============================] - 0s 3ms/step - loss: 2.9498e-04 - mse: 2.9498e-04\n",
            "Epoch 136/300\n",
            "5/5 [==============================] - 0s 2ms/step - loss: 2.8447e-04 - mse: 2.8447e-04\n",
            "Epoch 137/300\n",
            "5/5 [==============================] - 0s 2ms/step - loss: 2.7381e-04 - mse: 2.7381e-04\n",
            "Epoch 138/300\n",
            "5/5 [==============================] - 0s 3ms/step - loss: 2.6404e-04 - mse: 2.6404e-04\n",
            "Epoch 139/300\n",
            "5/5 [==============================] - 0s 2ms/step - loss: 2.5478e-04 - mse: 2.5478e-04\n",
            "Epoch 140/300\n",
            "5/5 [==============================] - 0s 4ms/step - loss: 2.4596e-04 - mse: 2.4596e-04\n",
            "Epoch 141/300\n",
            "5/5 [==============================] - 0s 4ms/step - loss: 2.3749e-04 - mse: 2.3749e-04\n",
            "Epoch 142/300\n",
            "5/5 [==============================] - 0s 3ms/step - loss: 2.2976e-04 - mse: 2.2976e-04\n",
            "Epoch 143/300\n",
            "5/5 [==============================] - 0s 3ms/step - loss: 2.2207e-04 - mse: 2.2207e-04\n",
            "Epoch 144/300\n",
            "5/5 [==============================] - 0s 4ms/step - loss: 2.1557e-04 - mse: 2.1557e-04\n",
            "Epoch 145/300\n",
            "5/5 [==============================] - 0s 4ms/step - loss: 2.0851e-04 - mse: 2.0851e-04\n",
            "Epoch 146/300\n",
            "5/5 [==============================] - 0s 4ms/step - loss: 2.0258e-04 - mse: 2.0258e-04\n",
            "Epoch 147/300\n",
            "5/5 [==============================] - 0s 2ms/step - loss: 1.9684e-04 - mse: 1.9684e-04\n",
            "Epoch 148/300\n",
            "5/5 [==============================] - 0s 3ms/step - loss: 1.9120e-04 - mse: 1.9120e-04\n",
            "Epoch 149/300\n",
            "5/5 [==============================] - 0s 3ms/step - loss: 1.8560e-04 - mse: 1.8560e-04\n",
            "Epoch 150/300\n",
            "5/5 [==============================] - 0s 3ms/step - loss: 1.8047e-04 - mse: 1.8047e-04\n",
            "Epoch 151/300\n",
            "5/5 [==============================] - 0s 3ms/step - loss: 1.7637e-04 - mse: 1.7637e-04\n",
            "Epoch 152/300\n",
            "5/5 [==============================] - 0s 3ms/step - loss: 1.7149e-04 - mse: 1.7149e-04\n",
            "Epoch 153/300\n",
            "5/5 [==============================] - 0s 5ms/step - loss: 1.6747e-04 - mse: 1.6747e-04\n",
            "Epoch 154/300\n",
            "5/5 [==============================] - 0s 3ms/step - loss: 1.6360e-04 - mse: 1.6360e-04\n",
            "Epoch 155/300\n",
            "5/5 [==============================] - 0s 2ms/step - loss: 1.5985e-04 - mse: 1.5985e-04\n",
            "Epoch 156/300\n",
            "5/5 [==============================] - 0s 3ms/step - loss: 1.5661e-04 - mse: 1.5661e-04\n",
            "Epoch 157/300\n",
            "5/5 [==============================] - 0s 2ms/step - loss: 1.5337e-04 - mse: 1.5337e-04\n",
            "Epoch 158/300\n",
            "5/5 [==============================] - 0s 3ms/step - loss: 1.5021e-04 - mse: 1.5021e-04\n",
            "Epoch 159/300\n",
            "5/5 [==============================] - 0s 3ms/step - loss: 1.4768e-04 - mse: 1.4768e-04\n",
            "Epoch 160/300\n",
            "5/5 [==============================] - 0s 4ms/step - loss: 1.4477e-04 - mse: 1.4477e-04\n",
            "Epoch 161/300\n",
            "5/5 [==============================] - 0s 3ms/step - loss: 1.4194e-04 - mse: 1.4194e-04\n",
            "Epoch 162/300\n",
            "5/5 [==============================] - 0s 3ms/step - loss: 1.3973e-04 - mse: 1.3973e-04\n",
            "Epoch 163/300\n",
            "5/5 [==============================] - 0s 3ms/step - loss: 1.3769e-04 - mse: 1.3769e-04\n",
            "Epoch 164/300\n",
            "5/5 [==============================] - 0s 3ms/step - loss: 1.3543e-04 - mse: 1.3543e-04\n",
            "Epoch 165/300\n",
            "5/5 [==============================] - 0s 3ms/step - loss: 1.3353e-04 - mse: 1.3353e-04\n",
            "Epoch 166/300\n",
            "5/5 [==============================] - 0s 3ms/step - loss: 1.3169e-04 - mse: 1.3169e-04\n",
            "Epoch 167/300\n",
            "5/5 [==============================] - 0s 3ms/step - loss: 1.2994e-04 - mse: 1.2994e-04\n",
            "Epoch 168/300\n",
            "5/5 [==============================] - 0s 2ms/step - loss: 1.2844e-04 - mse: 1.2844e-04\n",
            "Epoch 169/300\n",
            "5/5 [==============================] - 0s 2ms/step - loss: 1.2675e-04 - mse: 1.2675e-04\n",
            "Epoch 170/300\n",
            "5/5 [==============================] - 0s 3ms/step - loss: 1.2564e-04 - mse: 1.2564e-04\n",
            "Epoch 171/300\n",
            "5/5 [==============================] - 0s 3ms/step - loss: 1.2425e-04 - mse: 1.2425e-04\n",
            "Epoch 172/300\n",
            "5/5 [==============================] - 0s 3ms/step - loss: 1.2288e-04 - mse: 1.2288e-04\n",
            "Epoch 173/300\n",
            "5/5 [==============================] - 0s 3ms/step - loss: 1.2167e-04 - mse: 1.2167e-04\n",
            "Epoch 174/300\n",
            "5/5 [==============================] - 0s 3ms/step - loss: 1.2071e-04 - mse: 1.2071e-04\n",
            "Epoch 175/300\n",
            "5/5 [==============================] - 0s 3ms/step - loss: 1.1976e-04 - mse: 1.1976e-04\n",
            "Epoch 176/300\n",
            "5/5 [==============================] - 0s 3ms/step - loss: 1.1876e-04 - mse: 1.1876e-04\n",
            "Epoch 177/300\n",
            "5/5 [==============================] - 0s 3ms/step - loss: 1.1779e-04 - mse: 1.1779e-04\n",
            "Epoch 178/300\n",
            "5/5 [==============================] - 0s 3ms/step - loss: 1.1711e-04 - mse: 1.1711e-04\n",
            "Epoch 179/300\n",
            "5/5 [==============================] - 0s 3ms/step - loss: 1.1634e-04 - mse: 1.1634e-04\n",
            "Epoch 180/300\n",
            "5/5 [==============================] - 0s 3ms/step - loss: 1.1550e-04 - mse: 1.1550e-04\n",
            "Epoch 181/300\n",
            "5/5 [==============================] - 0s 3ms/step - loss: 1.1492e-04 - mse: 1.1492e-04\n",
            "Epoch 182/300\n",
            "5/5 [==============================] - 0s 3ms/step - loss: 1.1423e-04 - mse: 1.1423e-04\n",
            "Epoch 183/300\n",
            "5/5 [==============================] - 0s 4ms/step - loss: 1.1365e-04 - mse: 1.1365e-04\n",
            "Epoch 184/300\n",
            "5/5 [==============================] - 0s 3ms/step - loss: 1.1335e-04 - mse: 1.1335e-04\n",
            "Epoch 185/300\n",
            "5/5 [==============================] - 0s 3ms/step - loss: 1.1267e-04 - mse: 1.1267e-04\n",
            "Epoch 186/300\n",
            "5/5 [==============================] - 0s 2ms/step - loss: 1.1209e-04 - mse: 1.1209e-04\n",
            "Epoch 187/300\n",
            "5/5 [==============================] - 0s 2ms/step - loss: 1.1177e-04 - mse: 1.1177e-04\n",
            "Epoch 188/300\n",
            "5/5 [==============================] - 0s 2ms/step - loss: 1.1130e-04 - mse: 1.1130e-04\n",
            "Epoch 189/300\n",
            "5/5 [==============================] - 0s 3ms/step - loss: 1.1145e-04 - mse: 1.1145e-04\n",
            "Epoch 190/300\n",
            "5/5 [==============================] - 0s 3ms/step - loss: 1.1053e-04 - mse: 1.1053e-04\n",
            "Epoch 191/300\n",
            "5/5 [==============================] - 0s 3ms/step - loss: 1.1022e-04 - mse: 1.1022e-04\n",
            "Epoch 192/300\n",
            "5/5 [==============================] - 0s 3ms/step - loss: 1.1013e-04 - mse: 1.1013e-04\n",
            "Epoch 193/300\n",
            "5/5 [==============================] - 0s 2ms/step - loss: 1.0967e-04 - mse: 1.0967e-04\n",
            "Epoch 194/300\n",
            "5/5 [==============================] - 0s 3ms/step - loss: 1.0947e-04 - mse: 1.0947e-04\n",
            "Epoch 195/300\n",
            "5/5 [==============================] - 0s 3ms/step - loss: 1.0933e-04 - mse: 1.0933e-04\n",
            "Epoch 196/300\n",
            "5/5 [==============================] - 0s 2ms/step - loss: 1.0909e-04 - mse: 1.0909e-04\n",
            "Epoch 197/300\n",
            "5/5 [==============================] - 0s 3ms/step - loss: 1.0882e-04 - mse: 1.0882e-04\n",
            "Epoch 198/300\n",
            "5/5 [==============================] - 0s 3ms/step - loss: 1.0859e-04 - mse: 1.0859e-04\n",
            "Epoch 199/300\n",
            "5/5 [==============================] - 0s 2ms/step - loss: 1.0842e-04 - mse: 1.0842e-04\n",
            "Epoch 200/300\n",
            "5/5 [==============================] - 0s 3ms/step - loss: 1.0829e-04 - mse: 1.0829e-04\n",
            "Epoch 201/300\n",
            "5/5 [==============================] - 0s 3ms/step - loss: 1.0817e-04 - mse: 1.0817e-04\n",
            "Epoch 202/300\n",
            "5/5 [==============================] - 0s 2ms/step - loss: 1.0791e-04 - mse: 1.0791e-04\n",
            "Epoch 203/300\n",
            "5/5 [==============================] - 0s 4ms/step - loss: 1.0779e-04 - mse: 1.0779e-04\n",
            "Epoch 204/300\n",
            "5/5 [==============================] - 0s 5ms/step - loss: 1.0836e-04 - mse: 1.0836e-04\n",
            "Epoch 205/300\n",
            "5/5 [==============================] - 0s 3ms/step - loss: 1.0763e-04 - mse: 1.0763e-04\n",
            "Epoch 206/300\n",
            "5/5 [==============================] - 0s 4ms/step - loss: 1.0751e-04 - mse: 1.0751e-04\n",
            "Epoch 207/300\n",
            "5/5 [==============================] - 0s 3ms/step - loss: 1.0739e-04 - mse: 1.0739e-04\n",
            "Epoch 208/300\n",
            "5/5 [==============================] - 0s 3ms/step - loss: 1.0787e-04 - mse: 1.0787e-04\n",
            "Epoch 209/300\n",
            "5/5 [==============================] - 0s 3ms/step - loss: 1.0718e-04 - mse: 1.0718e-04\n",
            "Epoch 210/300\n",
            "5/5 [==============================] - 0s 4ms/step - loss: 1.0718e-04 - mse: 1.0718e-04\n",
            "Epoch 211/300\n",
            "5/5 [==============================] - 0s 3ms/step - loss: 1.0715e-04 - mse: 1.0715e-04\n",
            "Epoch 212/300\n",
            "5/5 [==============================] - 0s 3ms/step - loss: 1.0699e-04 - mse: 1.0699e-04\n",
            "Epoch 213/300\n",
            "5/5 [==============================] - 0s 3ms/step - loss: 1.0703e-04 - mse: 1.0703e-04\n",
            "Epoch 214/300\n",
            "5/5 [==============================] - 0s 3ms/step - loss: 1.0699e-04 - mse: 1.0699e-04\n",
            "Epoch 215/300\n",
            "5/5 [==============================] - 0s 2ms/step - loss: 1.0685e-04 - mse: 1.0685e-04\n",
            "Epoch 216/300\n",
            "5/5 [==============================] - 0s 4ms/step - loss: 1.0682e-04 - mse: 1.0682e-04\n",
            "Epoch 217/300\n",
            "5/5 [==============================] - 0s 3ms/step - loss: 1.0688e-04 - mse: 1.0688e-04\n",
            "Epoch 218/300\n",
            "5/5 [==============================] - 0s 4ms/step - loss: 1.0676e-04 - mse: 1.0676e-04\n",
            "Epoch 219/300\n",
            "5/5 [==============================] - 0s 3ms/step - loss: 1.0667e-04 - mse: 1.0667e-04\n",
            "Epoch 220/300\n",
            "5/5 [==============================] - 0s 3ms/step - loss: 1.0693e-04 - mse: 1.0693e-04\n",
            "Epoch 221/300\n",
            "5/5 [==============================] - 0s 3ms/step - loss: 1.0671e-04 - mse: 1.0671e-04\n",
            "Epoch 222/300\n",
            "5/5 [==============================] - 0s 2ms/step - loss: 1.0665e-04 - mse: 1.0665e-04\n",
            "Epoch 223/300\n",
            "5/5 [==============================] - 0s 3ms/step - loss: 1.0658e-04 - mse: 1.0658e-04\n",
            "Epoch 224/300\n",
            "5/5 [==============================] - 0s 3ms/step - loss: 1.0655e-04 - mse: 1.0655e-04\n",
            "Epoch 225/300\n",
            "5/5 [==============================] - 0s 3ms/step - loss: 1.0655e-04 - mse: 1.0655e-04\n",
            "Epoch 226/300\n",
            "5/5 [==============================] - 0s 3ms/step - loss: 1.0650e-04 - mse: 1.0650e-04\n",
            "Epoch 227/300\n",
            "5/5 [==============================] - 0s 3ms/step - loss: 1.0662e-04 - mse: 1.0662e-04\n",
            "Epoch 228/300\n",
            "5/5 [==============================] - 0s 3ms/step - loss: 1.0647e-04 - mse: 1.0647e-04\n",
            "Epoch 229/300\n",
            "5/5 [==============================] - 0s 3ms/step - loss: 1.0653e-04 - mse: 1.0653e-04\n",
            "Epoch 230/300\n",
            "5/5 [==============================] - 0s 3ms/step - loss: 1.0672e-04 - mse: 1.0672e-04\n",
            "Epoch 231/300\n",
            "5/5 [==============================] - 0s 3ms/step - loss: 1.0642e-04 - mse: 1.0642e-04\n",
            "Epoch 232/300\n",
            "5/5 [==============================] - 0s 4ms/step - loss: 1.0641e-04 - mse: 1.0641e-04\n",
            "Epoch 233/300\n",
            "5/5 [==============================] - 0s 4ms/step - loss: 1.0658e-04 - mse: 1.0658e-04\n",
            "Epoch 234/300\n",
            "5/5 [==============================] - 0s 3ms/step - loss: 1.0644e-04 - mse: 1.0644e-04\n",
            "Epoch 235/300\n",
            "5/5 [==============================] - 0s 2ms/step - loss: 1.0653e-04 - mse: 1.0653e-04\n",
            "Epoch 236/300\n",
            "5/5 [==============================] - 0s 3ms/step - loss: 1.0647e-04 - mse: 1.0647e-04\n",
            "Epoch 237/300\n",
            "5/5 [==============================] - 0s 3ms/step - loss: 1.0637e-04 - mse: 1.0637e-04\n",
            "Epoch 238/300\n",
            "5/5 [==============================] - 0s 3ms/step - loss: 1.0651e-04 - mse: 1.0651e-04\n",
            "Epoch 239/300\n",
            "5/5 [==============================] - 0s 3ms/step - loss: 1.0659e-04 - mse: 1.0659e-04\n",
            "Epoch 240/300\n",
            "5/5 [==============================] - 0s 3ms/step - loss: 1.0639e-04 - mse: 1.0639e-04\n",
            "Epoch 241/300\n",
            "5/5 [==============================] - 0s 3ms/step - loss: 1.0637e-04 - mse: 1.0637e-04\n",
            "Epoch 242/300\n",
            "5/5 [==============================] - 0s 4ms/step - loss: 1.0647e-04 - mse: 1.0647e-04\n",
            "Epoch 243/300\n",
            "5/5 [==============================] - 0s 4ms/step - loss: 1.0634e-04 - mse: 1.0634e-04\n",
            "Epoch 244/300\n",
            "5/5 [==============================] - 0s 4ms/step - loss: 1.0651e-04 - mse: 1.0651e-04\n",
            "Epoch 245/300\n",
            "5/5 [==============================] - 0s 3ms/step - loss: 1.0633e-04 - mse: 1.0633e-04\n",
            "Epoch 246/300\n",
            "5/5 [==============================] - 0s 4ms/step - loss: 1.0652e-04 - mse: 1.0652e-04\n",
            "Epoch 247/300\n",
            "5/5 [==============================] - 0s 3ms/step - loss: 1.0663e-04 - mse: 1.0663e-04\n",
            "Epoch 248/300\n",
            "5/5 [==============================] - 0s 3ms/step - loss: 1.0637e-04 - mse: 1.0637e-04\n",
            "Epoch 249/300\n",
            "5/5 [==============================] - 0s 3ms/step - loss: 1.0631e-04 - mse: 1.0631e-04\n",
            "Epoch 250/300\n",
            "5/5 [==============================] - 0s 3ms/step - loss: 1.0642e-04 - mse: 1.0642e-04\n",
            "Epoch 251/300\n",
            "5/5 [==============================] - 0s 4ms/step - loss: 1.0633e-04 - mse: 1.0633e-04\n",
            "Epoch 252/300\n",
            "5/5 [==============================] - 0s 3ms/step - loss: 1.0631e-04 - mse: 1.0631e-04\n",
            "Epoch 253/300\n",
            "5/5 [==============================] - 0s 3ms/step - loss: 1.0634e-04 - mse: 1.0634e-04\n",
            "Epoch 254/300\n",
            "5/5 [==============================] - 0s 2ms/step - loss: 1.0637e-04 - mse: 1.0637e-04\n",
            "Epoch 255/300\n",
            "5/5 [==============================] - 0s 2ms/step - loss: 1.0632e-04 - mse: 1.0632e-04\n",
            "Epoch 256/300\n",
            "5/5 [==============================] - 0s 2ms/step - loss: 1.0635e-04 - mse: 1.0635e-04\n",
            "Epoch 257/300\n",
            "5/5 [==============================] - 0s 3ms/step - loss: 1.0641e-04 - mse: 1.0641e-04\n",
            "Epoch 258/300\n",
            "5/5 [==============================] - 0s 3ms/step - loss: 1.0629e-04 - mse: 1.0629e-04\n",
            "Epoch 259/300\n",
            "5/5 [==============================] - 0s 3ms/step - loss: 1.0630e-04 - mse: 1.0630e-04\n",
            "Epoch 260/300\n",
            "5/5 [==============================] - 0s 3ms/step - loss: 1.0647e-04 - mse: 1.0647e-04\n",
            "Epoch 261/300\n",
            "5/5 [==============================] - 0s 3ms/step - loss: 1.0648e-04 - mse: 1.0648e-04\n",
            "Epoch 262/300\n",
            "5/5 [==============================] - 0s 3ms/step - loss: 1.0634e-04 - mse: 1.0634e-04\n",
            "Epoch 263/300\n",
            "5/5 [==============================] - 0s 3ms/step - loss: 1.0637e-04 - mse: 1.0637e-04\n",
            "Epoch 264/300\n",
            "5/5 [==============================] - 0s 3ms/step - loss: 1.0633e-04 - mse: 1.0633e-04\n",
            "Epoch 265/300\n",
            "5/5 [==============================] - 0s 3ms/step - loss: 1.0638e-04 - mse: 1.0638e-04\n",
            "Epoch 266/300\n",
            "5/5 [==============================] - 0s 2ms/step - loss: 1.0631e-04 - mse: 1.0631e-04\n",
            "Epoch 267/300\n",
            "5/5 [==============================] - 0s 3ms/step - loss: 1.0632e-04 - mse: 1.0632e-04\n",
            "Epoch 268/300\n",
            "5/5 [==============================] - 0s 3ms/step - loss: 1.0643e-04 - mse: 1.0643e-04\n",
            "Epoch 269/300\n",
            "5/5 [==============================] - 0s 3ms/step - loss: 1.0650e-04 - mse: 1.0650e-04\n",
            "Epoch 270/300\n",
            "5/5 [==============================] - 0s 4ms/step - loss: 1.0643e-04 - mse: 1.0643e-04\n",
            "Epoch 271/300\n",
            "5/5 [==============================] - 0s 4ms/step - loss: 1.0661e-04 - mse: 1.0661e-04\n",
            "Epoch 272/300\n",
            "5/5 [==============================] - 0s 3ms/step - loss: 1.0639e-04 - mse: 1.0639e-04\n",
            "Epoch 273/300\n",
            "5/5 [==============================] - 0s 5ms/step - loss: 1.0649e-04 - mse: 1.0649e-04\n",
            "Epoch 274/300\n",
            "5/5 [==============================] - 0s 4ms/step - loss: 1.0685e-04 - mse: 1.0685e-04\n",
            "Epoch 275/300\n",
            "5/5 [==============================] - 0s 3ms/step - loss: 1.0652e-04 - mse: 1.0652e-04\n",
            "Epoch 276/300\n",
            "5/5 [==============================] - 0s 3ms/step - loss: 1.0640e-04 - mse: 1.0640e-04\n",
            "Epoch 277/300\n",
            "5/5 [==============================] - 0s 3ms/step - loss: 1.0630e-04 - mse: 1.0630e-04\n",
            "Epoch 278/300\n",
            "5/5 [==============================] - 0s 3ms/step - loss: 1.0632e-04 - mse: 1.0632e-04\n",
            "Epoch 279/300\n",
            "5/5 [==============================] - 0s 3ms/step - loss: 1.0635e-04 - mse: 1.0635e-04\n",
            "Epoch 280/300\n",
            "5/5 [==============================] - 0s 3ms/step - loss: 1.0637e-04 - mse: 1.0637e-04\n",
            "Epoch 281/300\n",
            "5/5 [==============================] - 0s 3ms/step - loss: 1.0635e-04 - mse: 1.0635e-04\n",
            "Epoch 282/300\n",
            "5/5 [==============================] - 0s 3ms/step - loss: 1.0643e-04 - mse: 1.0643e-04\n",
            "Epoch 283/300\n",
            "5/5 [==============================] - 0s 3ms/step - loss: 1.0663e-04 - mse: 1.0663e-04\n",
            "Epoch 284/300\n",
            "5/5 [==============================] - 0s 2ms/step - loss: 1.0657e-04 - mse: 1.0657e-04\n",
            "Epoch 285/300\n",
            "5/5 [==============================] - 0s 3ms/step - loss: 1.0652e-04 - mse: 1.0652e-04\n",
            "Epoch 286/300\n",
            "5/5 [==============================] - 0s 3ms/step - loss: 1.0646e-04 - mse: 1.0646e-04\n",
            "Epoch 287/300\n",
            "5/5 [==============================] - 0s 2ms/step - loss: 1.0632e-04 - mse: 1.0632e-04\n",
            "Epoch 288/300\n",
            "5/5 [==============================] - 0s 3ms/step - loss: 1.0650e-04 - mse: 1.0650e-04\n",
            "Epoch 289/300\n",
            "5/5 [==============================] - 0s 3ms/step - loss: 1.0636e-04 - mse: 1.0636e-04\n",
            "Epoch 290/300\n",
            "5/5 [==============================] - 0s 3ms/step - loss: 1.0635e-04 - mse: 1.0635e-04\n",
            "Epoch 291/300\n",
            "5/5 [==============================] - 0s 3ms/step - loss: 1.0631e-04 - mse: 1.0631e-04\n",
            "Epoch 292/300\n",
            "5/5 [==============================] - 0s 3ms/step - loss: 1.0638e-04 - mse: 1.0638e-04\n",
            "Epoch 293/300\n",
            "5/5 [==============================] - 0s 3ms/step - loss: 1.0656e-04 - mse: 1.0656e-04\n",
            "Epoch 294/300\n",
            "5/5 [==============================] - 0s 3ms/step - loss: 1.0633e-04 - mse: 1.0633e-04\n",
            "Epoch 295/300\n",
            "5/5 [==============================] - 0s 3ms/step - loss: 1.0650e-04 - mse: 1.0650e-04\n",
            "Epoch 296/300\n",
            "5/5 [==============================] - 0s 2ms/step - loss: 1.0644e-04 - mse: 1.0644e-04\n",
            "Epoch 297/300\n",
            "5/5 [==============================] - 0s 3ms/step - loss: 1.0636e-04 - mse: 1.0636e-04\n",
            "Epoch 298/300\n",
            "5/5 [==============================] - 0s 2ms/step - loss: 1.0651e-04 - mse: 1.0651e-04\n",
            "Epoch 299/300\n",
            "5/5 [==============================] - 0s 3ms/step - loss: 1.0641e-04 - mse: 1.0641e-04\n",
            "Epoch 300/300\n",
            "5/5 [==============================] - 0s 2ms/step - loss: 1.0637e-04 - mse: 1.0637e-04\n"
          ]
        },
        {
          "output_type": "execute_result",
          "data": {
            "text/plain": [
              "<keras.callbacks.History at 0x7efce22d9ad0>"
            ]
          },
          "metadata": {},
          "execution_count": 19
        }
      ]
    },
    {
      "cell_type": "code",
      "metadata": {
        "id": "UMDJNNotJeKc",
        "colab": {
          "base_uri": "https://localhost:8080/"
        },
        "outputId": "f2f8ca8f-1ba9-4b42-d07d-ec347c94fa71"
      },
      "source": [
        "# Print model weights, might not be exactly the same as above.\n",
        "[model.get_weights() for layer in model.layers]"
      ],
      "execution_count": 20,
      "outputs": [
        {
          "output_type": "execute_result",
          "data": {
            "text/plain": [
              "[[array([[0.19845729]], dtype=float32), array([0.99951214], dtype=float32)]]"
            ]
          },
          "metadata": {},
          "execution_count": 20
        }
      ]
    },
    {
      "cell_type": "code",
      "metadata": {
        "id": "6EgroEZCixsG"
      },
      "source": [
        ""
      ],
      "execution_count": null,
      "outputs": []
    }
  ]
}